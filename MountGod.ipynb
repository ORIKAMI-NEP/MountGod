{
  "cells": [
    {
      "cell_type": "markdown",
      "metadata": {
        "id": "OqvudDhS2OdR"
      },
      "source": [
        "**小説**"
      ]
    },
    {
      "cell_type": "code",
      "execution_count": 6,
      "metadata": {
        "colab": {
          "base_uri": "https://localhost:8080/"
        },
        "id": "RCc_VJJ02SVK",
        "outputId": "cb4db817-f298-4fac-9c88-7df502ff91ff"
      },
      "outputs": [
        {
          "name": "stdout",
          "output_type": "stream",
          "text": [
            "Active code page: 65001\n"
          ]
        },
        {
          "name": "stderr",
          "output_type": "stream",
          "text": [
            "The system cannot find the file specified.\n"
          ]
        }
      ],
      "source": [
        "!cat \"../data/novel.txt\" > \"../data/data.txt\"\n",
        "!head \"../data/data.txt\""
      ]
    },
    {
      "cell_type": "markdown",
      "metadata": {
        "id": "yPYP_YCa2Sqs"
      },
      "source": [
        "**ヤフコメ**"
      ]
    },
    {
      "cell_type": "code",
      "execution_count": null,
      "metadata": {
        "id": "S5Pz6Bn_2azk"
      },
      "outputs": [],
      "source": []
    },
    {
      "cell_type": "markdown",
      "metadata": {
        "id": "JBFpwW6F29Wj"
      },
      "source": [
        "**finetune準備**"
      ]
    },
    {
      "cell_type": "code",
      "execution_count": null,
      "metadata": {
        "colab": {
          "base_uri": "https://localhost:8080/"
        },
        "id": "MxkS3phk2oyP",
        "outputId": "176f4ee6-58b4-4017-ffd6-94e40f39899a"
      },
      "outputs": [
        {
          "name": "stdout",
          "output_type": "stream",
          "text": [
            "何ということもない普通の人生。</s>大学を出て一応大手と言われるゼネコンに入社し、現在一人暮らしの37歳。彼女はいない。\n",
            "大学を出て一応大手と言われるゼネコンに入社し、現在一人暮らしの37歳。彼女はいない。</s>年の離れた兄が両親を養っており、俺は気ままな独身貴族という訳だ。\n",
            "年の離れた兄が両親を養っており、俺は気ままな独身貴族という訳だ。</s>身長も低い訳ではなく、顔も悪い訳ではない。だけどモテない。彼女を作ろうと努力した事もあったが、３回告白してフラれた時点で心が折れた。まあ、この年になると彼女がどうのというのは正直面倒くさい。\n",
            "身長も低い訳ではなく、顔も悪い訳ではない。だけどモテない。彼女を作ろうと努力した事もあったが、３回告白してフラれた時点で心が折れた。まあ、この年になると彼女がどうのというのは正直面倒くさい。</s>仕事が忙しいというのもあるが、別にいなくて困るというものでもないし。言い訳してる訳ではないよ？\n",
            "仕事が忙しいというのもあるが、別にいなくて困るというものでもないし。言い訳してる訳ではないよ？</s>そんな事を何故考えていたかというと、\n",
            "そんな事を何故考えていたかというと、</s>先輩。お待たせしました！\n",
            "先輩。お待たせしました！</s>笑顔で俺に向かって歩いて来る、爽やかな青年。そして、その横に並ぶ美人さん。\n",
            "笑顔で俺に向かって歩いて来る、爽やかな青年。そして、その横に並ぶ美人さん。</s>俺の後輩の田村と、会社のマドンナと名高い、受付の沢渡さんである。\n",
            "俺の後輩の田村と、会社のマドンナと名高い、受付の沢渡さんである。</s>そう、今日はこいつらに、結婚するから相談に乗ってくれと頼まれたのだ。つい、何故自分はモテないのかなどと考えてしまった理由である。\n",
            "そう、今日はこいつらに、結婚するから相談に乗ってくれと頼まれたのだ。つい、何故自分はモテないのかなどと考えてしまった理由である。</s>仕事帰りの待ち合わせ場所の交差点脇で、柱にもたれてつらつらともの思いにふけっていた訳だ。\n"
          ]
        }
      ],
      "source": [
        "!cat \"../data/data.txt\" |\\\n",
        "    perl -ne 'BEGIN{$p=\"\";} chomp; if($.>1){print $p . \"</s>\" . $_ . \"\\n\";} $p=$_;' > \"../data/data.train.txt\"\n",
        "!head \"../data/data.train.txt\"\n",
        "!head -n 3000 \"../data/data.train.txt\" > \"../data/data.validation.txt\""
      ]
    },
    {
      "cell_type": "code",
      "execution_count": null,
      "metadata": {
        "colab": {
          "base_uri": "https://localhost:8080/"
        },
        "id": "vYRWNEZL0zjo",
        "outputId": "a7aaa79f-0068-414f-90c1-55212a32f982"
      },
      "outputs": [
        {
          "name": "stdout",
          "output_type": "stream",
          "text": [
            "  0% 1339/1199502 [12:47<190:29:51,  1.75it/s]Traceback (most recent call last):\n",
            "  File \"./transformers/examples/language-modeling/run_clm.py\", line 444, in <module>\n",
            "    main()\n",
            "  File \"./transformers/examples/language-modeling/run_clm.py\", line 409, in main\n",
            "    train_result = trainer.train(resume_from_checkpoint=checkpoint)\n",
            "  File \"/content/transformers/src/transformers/trainer.py\", line 1053, in train\n",
            "    tr_loss += self.training_step(model, inputs)\n",
            "  File \"/content/transformers/src/transformers/trainer.py\", line 1461, in training_step\n",
            "    loss.backward()\n",
            "  File \"/usr/local/lib/python3.7/dist-packages/torch/_tensor.py\", line 255, in backward\n",
            "    torch.autograd.backward(self, gradient, retain_graph, create_graph, inputs=inputs)\n",
            "  File \"/usr/local/lib/python3.7/dist-packages/torch/autograd/__init__.py\", line 149, in backward\n",
            "    allow_unreachable=True, accumulate_grad=True)  # allow_unreachable flag\n",
            "KeyboardInterrupt\n",
            "  0% 1339/1199502 [12:48<190:57:36,  1.74it/s]\n"
          ]
        }
      ],
      "source": [
        "!python ../transformers/examples/language-modeling/run_clm.py \\\n",
        "    --model_name_or_path=../rinna/japanese-gpt2-medium \\\n",
        "    --train_file=../data/data.train.txt \\\n",
        "    --validation_file=../data/data.validation.txt \\\n",
        "    --do_train \\\n",
        "    --do_eval \\\n",
        "    --num_train_epochs=3 \\\n",
        "    --save_steps=5000 \\\n",
        "    --save_total_limit=3 \\\n",
        "    --per_device_train_batch_size=1 \\\n",
        "    --per_device_eval_batch_size=1 \\\n",
        "    --output_dir=../output/ \\\n",
        "    --use_fast_tokenizer=False"
      ]
    }
  ],
  "metadata": {
    "accelerator": "GPU",
    "colab": {
      "collapsed_sections": [],
      "machine_shape": "hm",
      "name": "MountGod.ipynb",
      "provenance": []
    },
    "kernelspec": {
      "display_name": "Python 3",
      "name": "python3"
    },
    "language_info": {
      "codemirror_mode": {
        "name": "ipython",
        "version": 3
      },
      "file_extension": ".py",
      "mimetype": "text/x-python",
      "name": "python",
      "nbconvert_exporter": "python",
      "pygments_lexer": "ipython3",
      "version": "3.9.6"
    }
  },
  "nbformat": 4,
  "nbformat_minor": 0
}
